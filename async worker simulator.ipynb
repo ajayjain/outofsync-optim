{
 "cells": [
  {
   "cell_type": "code",
   "execution_count": 18,
   "metadata": {},
   "outputs": [],
   "source": [
    "import numpy as np\n",
    "import pandas as pd\n",
    "import seaborn as sns\n",
    "import matplotlib.pyplot as plt\n",
    "from scipy.stats import norm\n",
    "\n",
    "workers = 16\n",
    "batches = 10000\n",
    "\n",
    "mean_arr_time = 1\n",
    "std_dev = 0.2\n",
    "\n",
    "def get_job_time(): \n",
    "\treturn np.random.normal(loc=mean_arr_time, scale=std_dev)\n",
    "\n",
    "def get_worker_timeline(id):\n",
    "\tdeltas = [get_job_time() for _ in range(100)]\n",
    "\treturn [(id, end_time) for end_time in np.cumsum(deltas)]"
   ]
  },
  {
   "cell_type": "code",
   "execution_count": 19,
   "metadata": {},
   "outputs": [],
   "source": [
    "timelines = [get_worker_timeline(i) for i in range(workers)]\n",
    "\n",
    "timeline = [evt for timeline in timelines for evt in timeline]\n",
    "\n",
    "timeline = sorted(timeline, key=lambda evt: evt[1])\n",
    "\n",
    "timeline = timeline[:batches]\n",
    "\n",
    "indices = [[] for _ in range(workers)]\n",
    "\n",
    "for (idx, (i, t)) in enumerate(timeline):\n",
    "\tindices[i].append(idx)\n",
    "\n",
    "delays = [[i - 1 for i in np.diff(index_set)] for index_set in indices]"
   ]
  },
  {
   "cell_type": "code",
   "execution_count": 20,
   "metadata": {},
   "outputs": [
    {
     "data": {
      "text/html": [
       "<div>\n",
       "<style scoped>\n",
       "    .dataframe tbody tr th:only-of-type {\n",
       "        vertical-align: middle;\n",
       "    }\n",
       "\n",
       "    .dataframe tbody tr th {\n",
       "        vertical-align: top;\n",
       "    }\n",
       "\n",
       "    .dataframe thead th {\n",
       "        text-align: right;\n",
       "    }\n",
       "</style>\n",
       "<table border=\"1\" class=\"dataframe\">\n",
       "  <thead>\n",
       "    <tr style=\"text-align: right;\">\n",
       "      <th></th>\n",
       "      <th>0</th>\n",
       "    </tr>\n",
       "  </thead>\n",
       "  <tbody>\n",
       "    <tr>\n",
       "      <th>count</th>\n",
       "      <td>1584.000000</td>\n",
       "    </tr>\n",
       "    <tr>\n",
       "      <th>mean</th>\n",
       "      <td>14.885101</td>\n",
       "    </tr>\n",
       "    <tr>\n",
       "      <th>std</th>\n",
       "      <td>3.451778</td>\n",
       "    </tr>\n",
       "    <tr>\n",
       "      <th>min</th>\n",
       "      <td>1.000000</td>\n",
       "    </tr>\n",
       "    <tr>\n",
       "      <th>25%</th>\n",
       "      <td>13.000000</td>\n",
       "    </tr>\n",
       "    <tr>\n",
       "      <th>50%</th>\n",
       "      <td>15.000000</td>\n",
       "    </tr>\n",
       "    <tr>\n",
       "      <th>75%</th>\n",
       "      <td>17.000000</td>\n",
       "    </tr>\n",
       "    <tr>\n",
       "      <th>max</th>\n",
       "      <td>26.000000</td>\n",
       "    </tr>\n",
       "  </tbody>\n",
       "</table>\n",
       "</div>"
      ],
      "text/plain": [
       "                 0\n",
       "count  1584.000000\n",
       "mean     14.885101\n",
       "std       3.451778\n",
       "min       1.000000\n",
       "25%      13.000000\n",
       "50%      15.000000\n",
       "75%      17.000000\n",
       "max      26.000000"
      ]
     },
     "execution_count": 20,
     "metadata": {},
     "output_type": "execute_result"
    }
   ],
   "source": [
    "stats = pd.DataFrame(np.concatenate(delays)).describe()\n",
    "stats"
   ]
  },
  {
   "cell_type": "code",
   "execution_count": 21,
   "metadata": {},
   "outputs": [
    {
     "data": {
      "text/plain": [
       "104.14858393599519"
      ]
     },
     "execution_count": 21,
     "metadata": {},
     "output_type": "execute_result"
    }
   ],
   "source": [
    "timeline[-1][1]"
   ]
  },
  {
   "cell_type": "code",
   "execution_count": 41,
   "metadata": {
    "scrolled": true
   },
   "outputs": [
    {
     "data": {
      "image/png": "[encoded data removed]",
      "text/plain": [
       "<matplotlib.figure.Figure at 0x7fda1165c748>"
      ]
     },
     "metadata": {},
     "output_type": "display_data"
    }
   ],
   "source": [
    "a4_dims = (11.7, 3.5)\n",
    "fig, ax = plt.subplots(figsize=a4_dims)\n",
    "sns.distplot(np.concatenate(delays), ax=ax)\n",
    "x = np.linspace(0, stats[0][\"max\"] + stats[0][\"min\"],1000)\n",
    "y = norm.pdf(x, loc=stats[0][\"mean\"], scale=stats[0][\"std\"])\n",
    "plt.plot(x, y)\n",
    "plt.title(\"Delays in worker submission, 16 workers and 10000 batches\")\n",
    "plt.xlabel(\"# of parameter updates before gradient submission\")\n",
    "plt.ylabel(\"frequency\")\n",
    "plt.savefig(\"delays.png\")"
   ]
  },
  {
   "cell_type": "code",
   "execution_count": null,
   "metadata": {},
   "outputs": [],
   "source": []
  },
  {
   "cell_type": "code",
   "execution_count": null,
   "metadata": {},
   "outputs": [],
   "source": []
  },
  {
   "cell_type": "code",
   "execution_count": null,
   "metadata": {},
   "outputs": [],
   "source": []
  }
 ],
 "metadata": {
  "kernelspec": {
   "display_name": "Python 3",
   "language": "python",
   "name": "python3"
  },
  "language_info": {
   "codemirror_mode": {
    "name": "ipython",
    "version": 3
   },
   "file_extension": ".py",
   "mimetype": "text/x-python",
   "name": "python",
   "nbconvert_exporter": "python",
   "pygments_lexer": "ipython3",
   "version": "3.5.2"
  }
 },
 "nbformat": 4,
 "nbformat_minor": 2
}
